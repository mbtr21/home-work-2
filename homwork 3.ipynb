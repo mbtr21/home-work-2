{
 "cells": [
  {
   "cell_type": "code",
   "execution_count": 9,
   "metadata": {},
   "outputs": [
    {
     "data": {
      "text/plain": [
       "Fitness (generic function with 1 method)"
      ]
     },
     "execution_count": 9,
     "metadata": {},
     "output_type": "execute_result"
    }
   ],
   "source": [
    "function Fitness(instance)\n",
    "    pair_Threat_num = 0\n",
    "    for i in 1:length(instance)\n",
    "        for j in i + 1:length(instance)\n",
    "            if instance[i]== instance[j]\n",
    "                pair_Threat_num = pair_Threat_num + 1 \n",
    "                 break\n",
    "            end\n",
    "        end\n",
    "      k = instance[i] + 1\n",
    "      for j in i + 1:length(instance)\n",
    "            if instance[j]== k\n",
    "                pair_Threat_num = pair_Threat_num + 1 \n",
    "                 break\n",
    "            end\n",
    "            k = k+1\n",
    "        end \n",
    "    k = instance[i] - 1\n",
    "    for j in i + 1:length(instance)\n",
    "        if instance[j]== k\n",
    "                pair_Threat_num = pair_Threat_num + 1 \n",
    "                 break\n",
    "            end\n",
    "        k = k - 1\n",
    "    end\n",
    "end\n",
    "return (pair_Threat_num)\n",
    "end"
   ]
  },
  {
   "cell_type": "code",
   "execution_count": 10,
   "metadata": {},
   "outputs": [
    {
     "data": {
      "text/plain": [
       "Random_Select (generic function with 1 method)"
      ]
     },
     "execution_count": 10,
     "metadata": {},
     "output_type": "execute_result"
    }
   ],
   "source": [
    "using Distributions\n",
    "function Find_Weight(Population)\n",
    "    weight = []\n",
    "    for instance in Population\n",
    "        push!(weight,round(Fitness(instance) / sum(Fitness(i) for i in Population),digits=5))\n",
    "    end\n",
    "    return Float64.(weight)\n",
    "end\n",
    "function Random_Select(Population)\n",
    "    \n",
    "    weights = Find_Weight(Population)\n",
    "    #rintln(weights)\n",
    "    t = wsample(Population, weights,1)\n",
    "   return(t)\n",
    "     \n",
    "end"
   ]
  },
  {
   "cell_type": "code",
   "execution_count": 11,
   "metadata": {},
   "outputs": [
    {
     "data": {
      "text/plain": [
       "Mutation (generic function with 1 method)"
      ]
     },
     "execution_count": 11,
     "metadata": {},
     "output_type": "execute_result"
    }
   ],
   "source": [
    "function Cross_Over(X,Y)\n",
    "    X = X[1]\n",
    "    Y = Y[1]\n",
    "    r = rand(1:6)\n",
    "    x = X[1:r]\n",
    "    y = Y[r+1 : length(Y)]\n",
    "    \n",
    "    child1 = append!(x,y)\n",
    "    \n",
    "    x = X[r + 1: length(X)]\n",
    "    \n",
    "    y = Y[1: r]\n",
    "    \n",
    "\n",
    "    child2 = append!(y,x)\n",
    "    return([child1,child2])\n",
    "end\n",
    "function Mutation(X)\n",
    "    r = rand(1:8)\n",
    "    X[r] = rand(1:8)\n",
    "    return X\n",
    "end"
   ]
  },
  {
   "cell_type": "code",
   "execution_count": null,
   "metadata": {},
   "outputs": [
    {
     "name": "stdout",
     "output_type": "stream",
     "text": [
      "  2.497457 seconds (1.99 M allocations: 102.360 MiB, 1.31% gc time)\n",
      " 22.582230 seconds (882.30 k allocations: 38.545 MiB, 0.05% gc time)\n",
      " 96.108201 seconds (1.93 M allocations: 95.198 MiB, 0.02% gc time)"
     ]
    }
   ],
   "source": [
    "Population = []\n",
    "time = []\n",
    "N = []\n",
    "for  n in 8:100\n",
    "    push!(N,n)\n",
    "t = @time begin   for i in 1:100\n",
    "        push!(Population,rand(1:n , n))\n",
    "    end\n",
    "   #println(Population)\n",
    "    for i in 1:20\n",
    "    #println(Population)\n",
    "        new_Population = []\n",
    "        for i in 1:length(Population)/2\n",
    "            X = Random_Select(Population)\n",
    "            Y = Random_Select(Population)\n",
    "            childs = Cross_Over(X,Y)\n",
    "            childs[1] = Mutation(childs[1])\n",
    "            childs[2] = Mutation(childs[2])\n",
    "            push!(new_Population,childs[1])\n",
    "            push!(new_Population,childs[1])\n",
    "        end\n",
    "        Population = new_Population\n",
    "    end\n",
    "    end\n",
    "    #fit = map(Fitness,Population)\n",
    "    push!(time ,t)\n",
    "    \n",
    "   \n",
    "    #println(fit)\n",
    "end\n",
    "using Plots\n",
    "println(time)\n",
    "plot(N, time)"
   ]
  },
  {
   "cell_type": "code",
   "execution_count": null,
   "metadata": {},
   "outputs": [],
   "source": []
  }
 ],
 "metadata": {
  "kernelspec": {
   "display_name": "Julia 1.5.4",
   "language": "julia",
   "name": "julia-1.5"
  },
  "language_info": {
   "file_extension": ".jl",
   "mimetype": "application/julia",
   "name": "julia",
   "version": "1.5.4"
  }
 },
 "nbformat": 4,
 "nbformat_minor": 4
}
